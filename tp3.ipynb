{
 "cells": [
  {
   "cell_type": "markdown",
   "id": "498731c6",
   "metadata": {},
   "source": [
    "# Trabajo Practico n3 - Trabajando con Lists y Sets.\n",
    "## Criterios de evaluación.\n",
    "\n",
    "* Se deben utilizar nombres de variables descriptivos y claros (Utilizar la nomeclatura correspondiente para los nombres de variables).\n",
    "* Comentarios claros y concisos que expliquen el propósito de cada sección del código.\n",
    "* Utilizar mensajes de commit **descriptivos**. (Puedes utilizar la extension CONVENTIONAL COMMIT de VS-CODE). \n",
    "* Entrega en tiempo y forma.\n",
    "* Todo el código desarrollado debe ser subido a un repositorio en GitHub (el nombre del repositorio de seguir la siguiente estructura: tp3_tlp3_nombre_apellido).\n",
    "* Para resolver las actividades se debe insertar casillas de codigo entre cada actividad del cuaderno de Jupyter\n",
    "* El repositorio de GitHub debe incluir un archivo README.md con las instrucciones necesarias para la correcta ejecución del código.\n",
    "\n",
    "### ¡Importante!\n",
    "**El incumplimiento de los criterios de evaluación restará puntos en la nota final del práctico!**"
   ]
  },
  {
   "cell_type": "markdown",
   "id": "b361a7b6",
   "metadata": {},
   "source": [
    "### Actividad 1: \n",
    "Suma de todos los elementos de una lista, utilizando bucles repetitivos (for, while)."
   ]
  },
  {
   "cell_type": "code",
   "execution_count": 32,
   "id": "26009294",
   "metadata": {},
   "outputs": [
    {
     "name": "stdout",
     "output_type": "stream",
     "text": [
      "La suma es: 14\n",
      "La suma es: 37\n",
      "La suma es: 71\n",
      "La suma es: 119\n",
      "La suma es: 204\n"
     ]
    }
   ],
   "source": [
    "\n",
    "# todo:\n",
    "\n",
    "numbers = [14, 23, 34, 48, 85]\n",
    "total=0\n",
    "\n",
    "for numbers in numbers:\n",
    "    \n",
    "    total +=numbers\n",
    "    \n",
    "    print(f\"La suma es: {total}\")\n",
    "    \n"
   ]
  },
  {
   "cell_type": "markdown",
   "id": "0c239195",
   "metadata": {},
   "source": [
    "### Actividad 2: \n",
    "Encontrar el número más grande en una lista, utilizando bucles repetitivos (for, while)."
   ]
  },
  {
   "cell_type": "code",
   "execution_count": null,
   "id": "3611d25a",
   "metadata": {},
   "outputs": [
    {
     "name": "stdout",
     "output_type": "stream",
     "text": [
      "lo numeros son : [76, 55, 97, 84, 95]\n",
      "Y el numero mayor es: 97\n"
     ]
    }
   ],
   "source": [
    "# todo:\n",
    "\n",
    "from random import randint\n",
    "random_numbers =[randint(1, 100) for i in range(5)]##ya se esta ocupando el blucle for aqui\n",
    "numero_mayor=max(random_numbers)\n",
    "\n",
    "print(f\"lo numeros son : {random_numbers}\")\n",
    "print(f\"Y el numero mayor es: {numero_mayor}\")\n",
    "\n",
    "\n"
   ]
  },
  {
   "cell_type": "markdown",
   "id": "70a24b97",
   "metadata": {},
   "source": [
    "### Actividad 3:\n",
    "Contar cuántas veces aparece un número específico. Utiliza estructuras repetitivas para la resolucion de este ejercicio. "
   ]
  },
  {
   "cell_type": "code",
   "execution_count": 25,
   "id": "a9c8ebc7",
   "metadata": {},
   "outputs": [
    {
     "name": "stdout",
     "output_type": "stream",
     "text": [
      "El numero 12 no se encuentra en la lista\n",
      "la lista es: [92, 61, 95, 77, 177, 68, 142, 105, 22, 52, 144, 148, 171, 159, 180, 64, 45, 179, 35, 31]\n"
     ]
    }
   ],
   "source": [
    "# todo:\n",
    "lists = [randint(1, 200) for i in range(20)]\n",
    "\n",
    "numero_especifico=int(input(\"Escribe un numero entre 1 y 200: \"))\n",
    "veces=0\n",
    "for i in range(len(lists)):\n",
    "    if lists[i] == numero_especifico:\n",
    "        veces += 1\n",
    "        print(f\"El numero {numero_especifico} se repite {veces} veces en la lista\")\n",
    "        break\n",
    "else:\n",
    "    print(f\"El numero {numero_especifico} no se encuentra en la lista\")\n",
    "    \n",
    "print(f\"la lista es: {lists}\")"
   ]
  },
  {
   "cell_type": "markdown",
   "id": "b8dac397",
   "metadata": {},
   "source": [
    "### Actividad 4: \n",
    "Invertir una lista sin usar reverse() ni [::-1]"
   ]
  },
  {
   "cell_type": "code",
   "execution_count": 27,
   "id": "d04fd492",
   "metadata": {},
   "outputs": [
    {
     "name": "stdout",
     "output_type": "stream",
     "text": [
      "la lista original es: [37, 2, 15, 19, 41, 41, 29, 19]\n",
      "la lista invertida es: [19, 29, 41, 41, 19, 15, 2, 37]\n"
     ]
    }
   ],
   "source": [
    "\n",
    "# todo:\n",
    "\n",
    "from random import randint\n",
    "\n",
    "lists_two = [randint(1, 50) for i in range(8)]\n",
    "lista_invertida = []\n",
    "\n",
    "for i in range(len(lists_two)):\n",
    "    lista_invertida.insert(0, lists_two[i])\n",
    "print(f\"la lista original es: {lists_two}\")\n",
    "print(f\"la lista invertida es: {lista_invertida}\")\n"
   ]
  },
  {
   "cell_type": "markdown",
   "id": "8889d0f2",
   "metadata": {},
   "source": [
    "### Actividad 5:\n",
    "Sumar los elementos de dos listas posición por posición, utilizando solo bucles repetititivos (for,while)."
   ]
  },
  {
   "cell_type": "code",
   "execution_count": null,
   "id": "bc0ec844",
   "metadata": {},
   "outputs": [
    {
     "name": "stdout",
     "output_type": "stream",
     "text": [
      "[3, 7, 11, 16, 18]\n"
     ]
    }
   ],
   "source": [
    "# todo:\n",
    "lists_one = [ 2,4,6,7,8 ]\n",
    "lists_two = [ 1,3,5,9,10 ]\n",
    "\n",
    "for i in range(len(lists_one)):\n",
    "    lists_one[i] += lists_two[i]\n",
    "print(lists_one)"
   ]
  },
  {
   "cell_type": "markdown",
   "id": "8ce33e6b",
   "metadata": {},
   "source": [
    "### Actividad 6:\n",
    "\n",
    "Escribir un programa que almacene el abecedario en una lista, elimine de la lista las letras que ocupen posiciones múltiplos de 3, y muestre por pantalla la lista resultante."
   ]
  },
  {
   "cell_type": "code",
   "execution_count": 31,
   "id": "1c6a7d90",
   "metadata": {},
   "outputs": [
    {
     "name": "stdout",
     "output_type": "stream",
     "text": [
      "El abecedario sin las palabras que ocupan el multiplo de 3 es: ['a', 'b', 'd', 'e', 'g', 'h', 'j', 'k', 'm', 'n', 'p', 'q', 's', 't', 'v', 'w', 'y', 'z']\n"
     ]
    }
   ],
   "source": [
    "# Crear lista con el abecedario\n",
    "abecedario = [chr(i) for i in range(97, 123)]  \n",
    "resultado = []\n",
    "\n",
    "for i in range(len(abecedario)):\n",
    "    if (i+1) % 3 != 0:  # Verificar si el índice + 1 no es múltiplo de 3\n",
    "        resultado.append(abecedario[i])\n",
    "    else:\n",
    "        pass\n",
    "\n",
    "print(f\"El abecedario sin las palabras que ocupan el multiplo de 3 es: {resultado}\")"
   ]
  },
  {
   "cell_type": "markdown",
   "id": "5bfeb4b5",
   "metadata": {},
   "source": [
    "### Actividad 7:\n",
    "\n",
    "Escribir un programa que pida al usuario una palabra y muestre por pantalla si es un palíndromo (una palabra que se escribe de la misma forma al derecho y al reves)."
   ]
  },
  {
   "cell_type": "code",
   "execution_count": 29,
   "id": "2365afcc",
   "metadata": {},
   "outputs": [
    {
     "name": "stdout",
     "output_type": "stream",
     "text": [
      "la palabra ana es un palindromo\n"
     ]
    }
   ],
   "source": [
    "\n",
    "# todo:\n",
    "palindromo= input(\"Escribe una palabra: \")\n",
    "\n",
    "if palindromo==palindromo[::-1]:##con esto comparamos si la palabra es igual al reves\n",
    "    print(f\"la palabra {palindromo} es un palindromo\")\n",
    "else:\n",
    "    print(f\"la palabra {palindromo} no es un palindromo\")"
   ]
  },
  {
   "cell_type": "markdown",
   "id": "ed8b51be",
   "metadata": {},
   "source": [
    "### Actividad 8:\n",
    "\n",
    "Teniendo en cuenta el conjunto 1 y el conjunto 2, sin usar el operador de intersección &, calcular la intersección de dichos conjuntos."
   ]
  },
  {
   "cell_type": "code",
   "execution_count": null,
   "id": "21a434b9",
   "metadata": {},
   "outputs": [
    {
     "name": "stdout",
     "output_type": "stream",
     "text": [
      "[3, 4]\n"
     ]
    }
   ],
   "source": [
    "conjunto1 = {1, 2, 3, 4}\n",
    "conjunto2 = {3, 4, 5, 6}\n",
    "# todo:\n",
    "interseccion=[]##aca vamos a guardar los elementos que se repiten en ambos conjuntos\n",
    "\n",
    "for i in conjunto1:\n",
    "    if i in conjunto1 and i in conjunto2:\n",
    "        interseccion.append(i)\n",
    "print(interseccion)"
   ]
  },
  {
   "cell_type": "markdown",
   "id": "31b460dc",
   "metadata": {},
   "source": [
    "### Actividad 9:\n",
    "Eliminar duplicados de una lista usando un set."
   ]
  },
  {
   "cell_type": "code",
   "execution_count": null,
   "id": "0ef62008",
   "metadata": {},
   "outputs": [
    {
     "name": "stdout",
     "output_type": "stream",
     "text": [
      "[1, 2, 3, 4, 5]\n"
     ]
    }
   ],
   "source": [
    "\n",
    "# todo:\n",
    "lista = [1, 2, 2, 3, 4, 4, 5]\n",
    "lista_sin_repetidos=list(set(lista)) ##con el set eliminamos los elementos repetidos de la lista\n",
    "print(lista_sin_repetidos)\n",
    "\n"
   ]
  },
  {
   "cell_type": "markdown",
   "id": "075f1f2c",
   "metadata": {},
   "source": [
    "### Actividad 10:\n",
    "\n",
    "Escribir un programa que cree 2 matrices y realice su multiplicacion."
   ]
  },
  {
   "cell_type": "code",
   "execution_count": null,
   "id": "4c1fd0e1",
   "metadata": {},
   "outputs": [
    {
     "name": "stdout",
     "output_type": "stream",
     "text": [
      "Matriz 1: [[3, 9], [1, 9]]\n",
      "Matriz 2: [[1, 2], [1, 6]]\n",
      "Resultado: [[3, 18], [1, 54]]\n"
     ]
    }
   ],
   "source": [
    "# todo:\n",
    "import random\n",
    "\n",
    "matriz = [[random.randint(1, 10) for i in range(2)] for i in range(2)]\n",
    "matriz2 = [[random.randint(1, 10) for i in range(2)] for i in range(2)]\n",
    "resultado = []\n",
    "\n",
    "for i in range(2):\n",
    "    fila = []\n",
    "    for j in range(2):\n",
    "        fila.append(matriz[i][j] * matriz2[i][j])\n",
    "    resultado.append(fila)\n",
    "\n",
    "print(f\"Matriz 1 {matriz}\")\n",
    "print(f\"Matriz 2 {matriz2}\")\n",
    "print(f\"Resultado {resultado}\")\n"
   ]
  }
 ],
 "metadata": {
  "kernelspec": {
   "display_name": "Python 3",
   "language": "python",
   "name": "python3"
  },
  "language_info": {
   "codemirror_mode": {
    "name": "ipython",
    "version": 3
   },
   "file_extension": ".py",
   "mimetype": "text/x-python",
   "name": "python",
   "nbconvert_exporter": "python",
   "pygments_lexer": "ipython3",
   "version": "3.12.9"
  }
 },
 "nbformat": 4,
 "nbformat_minor": 5
}
